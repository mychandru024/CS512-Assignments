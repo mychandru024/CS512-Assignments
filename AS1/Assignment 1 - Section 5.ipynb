{
 "cells": [
  {
   "cell_type": "code",
   "execution_count": 1,
   "metadata": {},
   "outputs": [
    {
     "name": "stdout",
     "output_type": "stream",
     "text": [
      "[-2 -1  0]\n",
      "3.74165738677\n",
      "3.74165738677\n",
      "[0.2672612419124244, 0.53452248382484879, 0.80178372573727319]\n",
      "[ 74.49864043  57.68846676  36.6992252 ]\n",
      "32\n",
      "32\n",
      "12.9331544919\n",
      "[ 1.  1. -1.]\n",
      "[-3  6 -3]\n",
      "[ 3 -6  3]\n",
      "[-3  6 -3]\n",
      "32\n",
      "32\n"
     ]
    }
   ],
   "source": [
    "#Assignment 0 - Section A\n",
    "\n",
    "import numpy as np\n",
    "A = np.array([1,2,3])\n",
    "B = np.array([4,5,6])\n",
    "C = np.array([-1, 1, 3])\n",
    "\n",
    "#2A-B\n",
    "print(2 * A - B)\n",
    "\n",
    "#magnitude of A\n",
    "mag_A = np.sqrt( np.sum(i * i for i in A))\n",
    "print(np.sqrt( np.sum(i * i for i in A)))\n",
    "print(np.linalg.norm(A))\n",
    "\n",
    "#unit vector in the direction of A\n",
    "a = [i/mag_A for i in A]\n",
    "print(a)\n",
    "\n",
    "#direction cosines of A \n",
    "print(np.rad2deg(np.arccos(a)))\n",
    "\n",
    "# A.B and B.A\n",
    "print(np.dot(A, B))\n",
    "print(np.dot(B, A))\n",
    "\n",
    "#angle between A and B\n",
    "print(np.rad2deg(np.arccos(np.dot(A, B) / (np.sqrt( np.sum(i * i for i in A)) * np.sqrt( np.sum(i * i for i in B))) )))\n",
    "\n",
    "#vector perpendicular to A\n",
    "#assuming x = y = 1\n",
    "z = (-1*A[0] - 1*A[1])/A[2]\n",
    "pV_A = np.array([1, 1, z])\n",
    "print(pV_A)\n",
    "\n",
    "#AXB and BXA\n",
    "print(np.cross(A, B))\n",
    "print(np.cross(B, A))\n",
    "\n",
    "#vector perpendicular to both A and B\n",
    "print(np.cross(A, B))\n",
    "\n",
    "# ATranpose B and ABTranspose\n",
    "print(np.dot(np.transpose(A),B))\n",
    "print(A.dot(np.transpose(B)))"
   ]
  },
  {
   "cell_type": "code",
   "execution_count": 2,
   "metadata": {},
   "outputs": [
    {
     "name": "stdout",
     "output_type": "stream",
     "text": [
      "[[ 1  2  5]\n",
      " [ 6 -5 10]\n",
      " [-3 12 -3]]\n",
      "[[ 14  -2  -4]\n",
      " [  9   0  15]\n",
      " [  7   7 -21]]\n",
      "[[  9   3   8]\n",
      " [  6 -18  13]\n",
      " [ -5  15   2]]\n",
      "[[ 14   9   7]\n",
      " [ -2   0   7]\n",
      " [ -4  15 -21]]\n",
      "[[ 14   9   7]\n",
      " [ -2   0   7]\n",
      " [ -4  15 -21]]\n",
      "55.0\n",
      "7.49400541622e-16\n",
      "[[-0.23636364  0.30909091  0.21818182]\n",
      " [ 0.07272727 -0.01818182  0.16363636]\n",
      " [ 0.36363636 -0.09090909 -0.18181818]]\n",
      "[[ 0.16666667  0.0952381   0.21428571]\n",
      " [ 0.33333333  0.04761905 -0.14285714]\n",
      " [ 0.16666667 -0.19047619  0.07142857]]\n"
     ]
    }
   ],
   "source": [
    "#Assignment 0 - Section B\n",
    "\n",
    "A = np.array([[1, 2, 3], [4, -2, 3] , [0, 5, -1]])\n",
    "B = np.array([[1, 2, 1], [2, 1, -4] , [3, -2, 1]])\n",
    "C = np.array([[1, 2, 3], [4, 5, 6], [-1, 1, 3]])\n",
    "#2A-B \n",
    "print(2*A - B)\n",
    "\n",
    "#AB\n",
    "AB = np.matmul(A, B)\n",
    "print(AB)\n",
    "\n",
    "#BA\n",
    "print(np.matmul(B, A))\n",
    "\n",
    "#(AB)Transpose\n",
    "print(np.transpose(AB))\n",
    "\n",
    "#BtAt\n",
    "Bt = np.transpose(B)\n",
    "At = np.transpose(A)\n",
    "BtAt = np.matmul(Bt, At)\n",
    "print(BtAt)\n",
    "\n",
    "#|A| and |C|\n",
    "print(np.linalg.det(A))\n",
    "print(np.linalg.det(C))\n",
    "\n",
    "#Ainverse and Binverse\n",
    "print(np.linalg.inv(A))\n",
    "print(np.linalg.inv(B))"
   ]
  },
  {
   "cell_type": "code",
   "execution_count": 3,
   "metadata": {},
   "outputs": [
    {
     "name": "stdout",
     "output_type": "stream",
     "text": [
      "[-1.  4.]\n",
      "[[-0.70710678 -0.5547002 ]\n",
      " [ 0.70710678 -0.83205029]]\n",
      "[[ -1.00000000e+00  -6.66133815e-16]\n",
      " [  0.00000000e+00   4.00000000e+00]]\n",
      "-0.196116135138\n",
      "[ 1.  6.]\n",
      "[[-0.89442719  0.4472136 ]\n",
      " [-0.4472136  -0.89442719]]\n",
      "[[  1.00000000e+00  -4.44089210e-16]\n",
      " [  1.66533454e-16   6.00000000e+00]]\n",
      "0.0\n"
     ]
    }
   ],
   "source": [
    "#Assignment 0 - Section C\n",
    "\n",
    "A = np.array([[1,2], [3, 2]])\n",
    "B = np.array([[2, -2], [-2, 5]])\n",
    "\n",
    "W, V = np.linalg.eig(A)\n",
    "print(W)\n",
    "print(V)\n",
    "\n",
    "print(np.matmul(np.linalg.inv(V),np.matmul(A, V)))\n",
    "\n",
    "print( np.dot( np.array([V[0][0],V[1][0]]), np.array([V[0][1],V[1][1]]) ) )\n",
    "\n",
    "\n",
    "WB, VB = np.linalg.eig(B)\n",
    "print(WB)\n",
    "print(VB)\n",
    "\n",
    "print(np.matmul(np.linalg.inv(VB),np.matmul(B, VB)))\n",
    "\n",
    "print( np.dot( np.array([VB[0][0],VB[1][0]]), np.array([VB[0][1],VB[1][1]]) ) )\n"
   ]
  },
  {
   "cell_type": "code",
   "execution_count": 4,
   "metadata": {},
   "outputs": [
    {
     "name": "stdout",
     "output_type": "stream",
     "text": [
      "[[ 0.33333333  0.          0.        ]\n",
      " [ 0.          0.5         0.        ]\n",
      " [ 0.          0.          1.        ]]\n"
     ]
    }
   ],
   "source": [
    "M = np.array([[3,0,0], [0,2,0], [0,0,1]])\n",
    "print(np.linalg.inv(M))"
   ]
  }
 ],
 "metadata": {
  "kernelspec": {
   "display_name": "Python 3",
   "language": "python",
   "name": "python3"
  },
  "language_info": {
   "codemirror_mode": {
    "name": "ipython",
    "version": 3
   },
   "file_extension": ".py",
   "mimetype": "text/x-python",
   "name": "python",
   "nbconvert_exporter": "python",
   "pygments_lexer": "ipython3",
   "version": "3.6.1"
  }
 },
 "nbformat": 4,
 "nbformat_minor": 2
}
